{
 "cells": [
  {
   "cell_type": "markdown",
   "metadata": {},
   "source": [
    "question no 1"
   ]
  },
  {
   "cell_type": "code",
   "execution_count": 1,
   "metadata": {},
   "outputs": [
    {
     "name": "stdout",
     "output_type": "stream",
     "text": [
      "(221, 10)\n",
      "(221, 10)\n",
      "(265, 10)\n",
      "(177, 10)\n",
      "(309, 10)\n",
      "(133, 10)\n"
     ]
    }
   ],
   "source": [
    "\n",
    "from sklearn.model_selection import train_test_split\n",
    "from sklearn.model_selection import cross_val_score \n",
    "from sklearn.datasets import load_wine, load_breast_cancer, load_diabetes\n",
    "\n",
    "x,y=load_diabetes(return_X_y=True)\n",
    "\n",
    "\n",
    "x_train, x_test, y_train, y_test=train_test_split(x,y, test_size=0.5)\n",
    "#print(y_train)\n",
    "#print(x_train)\n",
    "print(x_train.shape)\n",
    "print(x_test.shape)\n",
    "x_train, x_test, y_train, y_test=train_test_split(x,y, test_size=0.4)\n",
    "#print(y_train)\n",
    "#print(x_train)\n",
    "print(x_train.shape)\n",
    "print(x_test.shape)\n",
    "x_train, x_test, y_train, y_test=train_test_split(x,y, test_size=0.3)\n",
    "#print(y_train)\n",
    "#print(x_train)\n",
    "print(x_train.shape)\n",
    "print(x_test.shape)\n",
    "x_train, x_test, y_train, y_test=train_test_split(x,y, test_size=0.1)\n",
    "#print(y_train)\n",
    "#print(x_train)s"
   ]
  },
  {
   "cell_type": "markdown",
   "metadata": {},
   "source": [
    "question no 2"
   ]
  },
  {
   "cell_type": "code",
   "execution_count": 2,
   "metadata": {},
   "outputs": [
    {
     "name": "stdout",
     "output_type": "stream",
     "text": [
      "(89, 13)\n",
      "(89, 13)\n",
      "(106, 13)\n",
      "(72, 13)\n",
      "(124, 13)\n",
      "(54, 13)\n",
      "(160, 13)\n",
      "(18, 13)\n"
     ]
    }
   ],
   "source": [
    "x1,y1=load_wine(return_X_y=True)\n",
    "x_train1, x_test1, y_train1, y_test1=train_test_split(x1,y1, test_size=0.5)\n",
    "#print(y_train)\n",
    "#print(x_train)\n",
    "print(x_train1.shape)\n",
    "print(x_test1.shape)\n",
    "x_train1, x_test1, y_train1, y_test1=train_test_split(x1,y1, test_size=0.4)\n",
    "#print(y_train)\n",
    "#print(x_train)\n",
    "print(x_train1.shape)\n",
    "print(x_test1.shape)\n",
    "x_train1, x_test1, y_train1, y_test1=train_test_split(x1,y1, test_size=0.3)\n",
    "#print(y_train)\n",
    "#print(x_train)\n",
    "print(x_train1.shape)\n",
    "print(x_test1.shape)\n",
    "x_train1, x_test1, y_train1, y_test1=train_test_split(x1,y1, test_size=0.1)\n",
    "#print(y_train)\n",
    "#print(x_train)\n",
    "print(x_train1.shape)\n",
    "print(x_test1.shape)"
   ]
  },
  {
   "cell_type": "markdown",
   "metadata": {},
   "source": [
    "question no 3"
   ]
  },
  {
   "cell_type": "code",
   "execution_count": 12,
   "metadata": {},
   "outputs": [
    {
     "name": "stdout",
     "output_type": "stream",
     "text": [
      "0.9861111111111112\n",
      "0.005649717514124294\n",
      "0.9583333333333334\n"
     ]
    }
   ],
   "source": [
    "from sklearn.naive_bayes import GaussianNB\n",
    "from sklearn.metrics import accuracy_score\n",
    "\n",
    "x2,y2=load_wine(return_X_y=True)\n",
    "x,y=load_diabetes(return_X_y=True)\n",
    "x1,y1=load_wine(return_X_y=True)\n",
    "\n",
    "x_train2, x_test2, y_train2, y_test2=train_test_split(x2,y2, test_size=0.4)\n",
    "x_train3, x_test3, y_train3, y_test3=train_test_split(x,y, test_size=0.4)\n",
    "x_train4, x_test4, y_train4, y_test4=train_test_split(x1,y1, test_size=0.4)\n",
    "model=GaussianNB()\n",
    "\n",
    "model.fit(x_train2, y_train2)\n",
    "\n",
    "y_pred1=model.predict(x_test2)\n",
    "accuracy=accuracy_score(y_test2, y_pred1)\n",
    "print(accuracy)\n",
    "model.fit(x_train3, y_train3)\n",
    "y_pred2=model.predict(x_test3)\n",
    "accuracy1=accuracy_score(y_test3, y_pred2)\n",
    "print(accuracy1)\n",
    "model.fit(x_train4, y_train4)\n",
    "y_pred3=model.predict(x_test4)\n",
    "accuracy2=accuracy_score(y_test4, y_pred3)\n",
    "print(accuracy2)"
   ]
  }
 ],
 "metadata": {
  "kernelspec": {
   "display_name": "Python 3",
   "language": "python",
   "name": "python3"
  },
  "language_info": {
   "codemirror_mode": {
    "name": "ipython",
    "version": 3
   },
   "file_extension": ".py",
   "mimetype": "text/x-python",
   "name": "python",
   "nbconvert_exporter": "python",
   "pygments_lexer": "ipython3",
   "version": "3.12.7"
  }
 },
 "nbformat": 4,
 "nbformat_minor": 2
}
