{
 "cells": [
  {
   "cell_type": "markdown",
   "metadata": {},
   "source": [
    "import the library"
   ]
  },
  {
   "cell_type": "code",
   "execution_count": 3,
   "metadata": {},
   "outputs": [],
   "source": [
    "import pandas as pd\n",
    "import numpy as np\n",
    "import matplotlib.pyplot as plt\n",
    "import seaborn as sns\n",
    "from sklearn.model_selection import train_test_split\n"
   ]
  },
  {
   "cell_type": "markdown",
   "metadata": {},
   "source": [
    "load data"
   ]
  },
  {
   "cell_type": "code",
   "execution_count": 4,
   "metadata": {},
   "outputs": [
    {
     "data": {
      "text/html": [
       "<div>\n",
       "<style scoped>\n",
       "    .dataframe tbody tr th:only-of-type {\n",
       "        vertical-align: middle;\n",
       "    }\n",
       "\n",
       "    .dataframe tbody tr th {\n",
       "        vertical-align: top;\n",
       "    }\n",
       "\n",
       "    .dataframe thead th {\n",
       "        text-align: right;\n",
       "    }\n",
       "</style>\n",
       "<table border=\"1\" class=\"dataframe\">\n",
       "  <thead>\n",
       "    <tr style=\"text-align: right;\">\n",
       "      <th></th>\n",
       "      <th>Transaction ID</th>\n",
       "      <th>Country</th>\n",
       "      <th>Amount (USD)</th>\n",
       "      <th>Transaction Type</th>\n",
       "      <th>Date of Transaction</th>\n",
       "      <th>Person Involved</th>\n",
       "      <th>Industry</th>\n",
       "      <th>Destination Country</th>\n",
       "      <th>Reported by Authority</th>\n",
       "      <th>Source of Money</th>\n",
       "      <th>Money Laundering Risk Score</th>\n",
       "      <th>Shell Companies Involved</th>\n",
       "      <th>Financial Institution</th>\n",
       "      <th>Tax Haven Country</th>\n",
       "    </tr>\n",
       "  </thead>\n",
       "  <tbody>\n",
       "    <tr>\n",
       "      <th>0</th>\n",
       "      <td>TX0000000001</td>\n",
       "      <td>Brazil</td>\n",
       "      <td>3.267530e+06</td>\n",
       "      <td>Offshore Transfer</td>\n",
       "      <td>2013-01-01 00:00:00</td>\n",
       "      <td>Person_1101</td>\n",
       "      <td>Construction</td>\n",
       "      <td>USA</td>\n",
       "      <td>True</td>\n",
       "      <td>Illegal</td>\n",
       "      <td>6</td>\n",
       "      <td>1</td>\n",
       "      <td>Bank_40</td>\n",
       "      <td>Singapore</td>\n",
       "    </tr>\n",
       "    <tr>\n",
       "      <th>1</th>\n",
       "      <td>TX0000000002</td>\n",
       "      <td>China</td>\n",
       "      <td>4.965767e+06</td>\n",
       "      <td>Stocks Transfer</td>\n",
       "      <td>2013-01-01 01:00:00</td>\n",
       "      <td>Person_7484</td>\n",
       "      <td>Luxury Goods</td>\n",
       "      <td>South Africa</td>\n",
       "      <td>False</td>\n",
       "      <td>Illegal</td>\n",
       "      <td>9</td>\n",
       "      <td>0</td>\n",
       "      <td>Bank_461</td>\n",
       "      <td>Bahamas</td>\n",
       "    </tr>\n",
       "    <tr>\n",
       "      <th>2</th>\n",
       "      <td>TX0000000003</td>\n",
       "      <td>UK</td>\n",
       "      <td>9.416750e+04</td>\n",
       "      <td>Stocks Transfer</td>\n",
       "      <td>2013-01-01 02:00:00</td>\n",
       "      <td>Person_3655</td>\n",
       "      <td>Construction</td>\n",
       "      <td>Switzerland</td>\n",
       "      <td>True</td>\n",
       "      <td>Illegal</td>\n",
       "      <td>1</td>\n",
       "      <td>3</td>\n",
       "      <td>Bank_387</td>\n",
       "      <td>Switzerland</td>\n",
       "    </tr>\n",
       "    <tr>\n",
       "      <th>3</th>\n",
       "      <td>TX0000000004</td>\n",
       "      <td>UAE</td>\n",
       "      <td>3.864201e+05</td>\n",
       "      <td>Cash Withdrawal</td>\n",
       "      <td>2013-01-01 03:00:00</td>\n",
       "      <td>Person_3226</td>\n",
       "      <td>Oil &amp; Gas</td>\n",
       "      <td>Russia</td>\n",
       "      <td>False</td>\n",
       "      <td>Illegal</td>\n",
       "      <td>7</td>\n",
       "      <td>2</td>\n",
       "      <td>Bank_353</td>\n",
       "      <td>Panama</td>\n",
       "    </tr>\n",
       "    <tr>\n",
       "      <th>4</th>\n",
       "      <td>TX0000000005</td>\n",
       "      <td>South Africa</td>\n",
       "      <td>6.433784e+05</td>\n",
       "      <td>Cryptocurrency</td>\n",
       "      <td>2013-01-01 04:00:00</td>\n",
       "      <td>Person_7975</td>\n",
       "      <td>Real Estate</td>\n",
       "      <td>USA</td>\n",
       "      <td>True</td>\n",
       "      <td>Illegal</td>\n",
       "      <td>1</td>\n",
       "      <td>9</td>\n",
       "      <td>Bank_57</td>\n",
       "      <td>Luxembourg</td>\n",
       "    </tr>\n",
       "  </tbody>\n",
       "</table>\n",
       "</div>"
      ],
      "text/plain": [
       "  Transaction ID       Country  Amount (USD)   Transaction Type  \\\n",
       "0   TX0000000001        Brazil  3.267530e+06  Offshore Transfer   \n",
       "1   TX0000000002         China  4.965767e+06    Stocks Transfer   \n",
       "2   TX0000000003            UK  9.416750e+04    Stocks Transfer   \n",
       "3   TX0000000004           UAE  3.864201e+05    Cash Withdrawal   \n",
       "4   TX0000000005  South Africa  6.433784e+05     Cryptocurrency   \n",
       "\n",
       "   Date of Transaction Person Involved      Industry Destination Country  \\\n",
       "0  2013-01-01 00:00:00     Person_1101  Construction                 USA   \n",
       "1  2013-01-01 01:00:00     Person_7484  Luxury Goods        South Africa   \n",
       "2  2013-01-01 02:00:00     Person_3655  Construction         Switzerland   \n",
       "3  2013-01-01 03:00:00     Person_3226     Oil & Gas              Russia   \n",
       "4  2013-01-01 04:00:00     Person_7975   Real Estate                 USA   \n",
       "\n",
       "   Reported by Authority Source of Money  Money Laundering Risk Score  \\\n",
       "0                   True         Illegal                            6   \n",
       "1                  False         Illegal                            9   \n",
       "2                   True         Illegal                            1   \n",
       "3                  False         Illegal                            7   \n",
       "4                   True         Illegal                            1   \n",
       "\n",
       "   Shell Companies Involved Financial Institution Tax Haven Country  \n",
       "0                         1               Bank_40         Singapore  \n",
       "1                         0              Bank_461           Bahamas  \n",
       "2                         3              Bank_387       Switzerland  \n",
       "3                         2              Bank_353            Panama  \n",
       "4                         9               Bank_57        Luxembourg  "
      ]
     },
     "execution_count": 4,
     "metadata": {},
     "output_type": "execute_result"
    }
   ],
   "source": [
    "dt=pd.read_csv(\"Big_Black_Money_Dataset.csv\")\n",
    "dt.head()"
   ]
  },
  {
   "cell_type": "markdown",
   "metadata": {},
   "source": [
    "find missing valuse"
   ]
  },
  {
   "cell_type": "code",
   "execution_count": 5,
   "metadata": {},
   "outputs": [
    {
     "data": {
      "text/plain": [
       "Transaction ID                 0\n",
       "Country                        0\n",
       "Amount (USD)                   0\n",
       "Transaction Type               0\n",
       "Date of Transaction            0\n",
       "Person Involved                0\n",
       "Industry                       0\n",
       "Destination Country            0\n",
       "Reported by Authority          0\n",
       "Source of Money                0\n",
       "Money Laundering Risk Score    0\n",
       "Shell Companies Involved       0\n",
       "Financial Institution          0\n",
       "Tax Haven Country              0\n",
       "dtype: int64"
      ]
     },
     "execution_count": 5,
     "metadata": {},
     "output_type": "execute_result"
    }
   ],
   "source": [
    "dt.isnull().sum()"
   ]
  },
  {
   "cell_type": "code",
   "execution_count": 6,
   "metadata": {},
   "outputs": [
    {
     "data": {
      "text/plain": [
       "0     Illegal\n",
       "1     Illegal\n",
       "2     Illegal\n",
       "3     Illegal\n",
       "4     Illegal\n",
       "5       Legal\n",
       "6       Legal\n",
       "7     Illegal\n",
       "8     Illegal\n",
       "9     Illegal\n",
       "10      Legal\n",
       "11      Legal\n",
       "12    Illegal\n",
       "13    Illegal\n",
       "14      Legal\n",
       "15    Illegal\n",
       "16    Illegal\n",
       "17    Illegal\n",
       "18    Illegal\n",
       "19      Legal\n",
       "Name: Source of Money, dtype: object"
      ]
     },
     "execution_count": 6,
     "metadata": {},
     "output_type": "execute_result"
    }
   ],
   "source": [
    "dt[\"Source of Money\"].head(20)"
   ]
  }
 ],
 "metadata": {
  "kernelspec": {
   "display_name": "Python 3",
   "language": "python",
   "name": "python3"
  },
  "language_info": {
   "codemirror_mode": {
    "name": "ipython",
    "version": 3
   },
   "file_extension": ".py",
   "mimetype": "text/x-python",
   "name": "python",
   "nbconvert_exporter": "python",
   "pygments_lexer": "ipython3",
   "version": "3.12.7"
  }
 },
 "nbformat": 4,
 "nbformat_minor": 2
}
